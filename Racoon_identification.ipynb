{
 "cells": [
  {
   "cell_type": "code",
   "execution_count": 1,
   "metadata": {},
   "outputs": [
    {
     "name": "stdout",
     "output_type": "stream",
     "text": [
      "Successfully converted xml to csv.\n"
     ]
    }
   ],
   "source": [
    "# xml to csv\n",
    "import xml_to_csv"
   ]
  },
  {
   "cell_type": "code",
   "execution_count": 2,
   "metadata": {},
   "outputs": [],
   "source": [
    "# Train & Test split\n",
    "import numpy as np\n",
    "import pandas as pd\n",
    "np.random.seed(1)"
   ]
  },
  {
   "cell_type": "code",
   "execution_count": 3,
   "metadata": {},
   "outputs": [],
   "source": [
    "racoons = pd.read_csv('data/raccoon_labels.csv')"
   ]
  },
  {
   "cell_type": "code",
   "execution_count": 4,
   "metadata": {},
   "outputs": [
    {
     "data": {
      "text/html": [
       "<div>\n",
       "<style scoped>\n",
       "    .dataframe tbody tr th:only-of-type {\n",
       "        vertical-align: middle;\n",
       "    }\n",
       "\n",
       "    .dataframe tbody tr th {\n",
       "        vertical-align: top;\n",
       "    }\n",
       "\n",
       "    .dataframe thead th {\n",
       "        text-align: right;\n",
       "    }\n",
       "</style>\n",
       "<table border=\"1\" class=\"dataframe\">\n",
       "  <thead>\n",
       "    <tr style=\"text-align: right;\">\n",
       "      <th></th>\n",
       "      <th>filename</th>\n",
       "      <th>width</th>\n",
       "      <th>height</th>\n",
       "      <th>class</th>\n",
       "      <th>xmin</th>\n",
       "      <th>ymin</th>\n",
       "      <th>xmax</th>\n",
       "      <th>ymax</th>\n",
       "    </tr>\n",
       "  </thead>\n",
       "  <tbody>\n",
       "    <tr>\n",
       "      <th>0</th>\n",
       "      <td>raccoon-1.jpg</td>\n",
       "      <td>650</td>\n",
       "      <td>417</td>\n",
       "      <td>raccoon</td>\n",
       "      <td>81</td>\n",
       "      <td>88</td>\n",
       "      <td>522</td>\n",
       "      <td>408</td>\n",
       "    </tr>\n",
       "    <tr>\n",
       "      <th>1</th>\n",
       "      <td>raccoon-10.jpg</td>\n",
       "      <td>450</td>\n",
       "      <td>495</td>\n",
       "      <td>raccoon</td>\n",
       "      <td>130</td>\n",
       "      <td>2</td>\n",
       "      <td>446</td>\n",
       "      <td>488</td>\n",
       "    </tr>\n",
       "    <tr>\n",
       "      <th>2</th>\n",
       "      <td>raccoon-100.jpg</td>\n",
       "      <td>960</td>\n",
       "      <td>576</td>\n",
       "      <td>raccoon</td>\n",
       "      <td>548</td>\n",
       "      <td>10</td>\n",
       "      <td>954</td>\n",
       "      <td>520</td>\n",
       "    </tr>\n",
       "    <tr>\n",
       "      <th>3</th>\n",
       "      <td>raccoon-101.jpg</td>\n",
       "      <td>640</td>\n",
       "      <td>426</td>\n",
       "      <td>raccoon</td>\n",
       "      <td>86</td>\n",
       "      <td>53</td>\n",
       "      <td>400</td>\n",
       "      <td>356</td>\n",
       "    </tr>\n",
       "    <tr>\n",
       "      <th>4</th>\n",
       "      <td>raccoon-102.jpg</td>\n",
       "      <td>259</td>\n",
       "      <td>194</td>\n",
       "      <td>raccoon</td>\n",
       "      <td>1</td>\n",
       "      <td>1</td>\n",
       "      <td>118</td>\n",
       "      <td>152</td>\n",
       "    </tr>\n",
       "  </tbody>\n",
       "</table>\n",
       "</div>"
      ],
      "text/plain": [
       "          filename  width  height    class  xmin  ymin  xmax  ymax\n",
       "0    raccoon-1.jpg    650     417  raccoon    81    88   522   408\n",
       "1   raccoon-10.jpg    450     495  raccoon   130     2   446   488\n",
       "2  raccoon-100.jpg    960     576  raccoon   548    10   954   520\n",
       "3  raccoon-101.jpg    640     426  raccoon    86    53   400   356\n",
       "4  raccoon-102.jpg    259     194  raccoon     1     1   118   152"
      ]
     },
     "execution_count": 4,
     "metadata": {},
     "output_type": "execute_result"
    }
   ],
   "source": [
    "racoons.head()"
   ]
  },
  {
   "cell_type": "code",
   "execution_count": 11,
   "metadata": {},
   "outputs": [
    {
     "data": {
      "text/html": [
       "<div>\n",
       "<style scoped>\n",
       "    .dataframe tbody tr th:only-of-type {\n",
       "        vertical-align: middle;\n",
       "    }\n",
       "\n",
       "    .dataframe tbody tr th {\n",
       "        vertical-align: top;\n",
       "    }\n",
       "\n",
       "    .dataframe thead th {\n",
       "        text-align: right;\n",
       "    }\n",
       "</style>\n",
       "<table border=\"1\" class=\"dataframe\">\n",
       "  <thead>\n",
       "    <tr style=\"text-align: right;\">\n",
       "      <th></th>\n",
       "      <th>filename</th>\n",
       "      <th>width</th>\n",
       "      <th>height</th>\n",
       "      <th>class</th>\n",
       "      <th>xmin</th>\n",
       "      <th>ymin</th>\n",
       "      <th>xmax</th>\n",
       "      <th>ymax</th>\n",
       "    </tr>\n",
       "  </thead>\n",
       "  <tbody>\n",
       "    <tr>\n",
       "      <th>0</th>\n",
       "      <td>raccoon-1.jpg</td>\n",
       "      <td>650</td>\n",
       "      <td>417</td>\n",
       "      <td>raccoon</td>\n",
       "      <td>81</td>\n",
       "      <td>88</td>\n",
       "      <td>522</td>\n",
       "      <td>408</td>\n",
       "    </tr>\n",
       "    <tr>\n",
       "      <th>1</th>\n",
       "      <td>raccoon-10.jpg</td>\n",
       "      <td>450</td>\n",
       "      <td>495</td>\n",
       "      <td>raccoon</td>\n",
       "      <td>130</td>\n",
       "      <td>2</td>\n",
       "      <td>446</td>\n",
       "      <td>488</td>\n",
       "    </tr>\n",
       "    <tr>\n",
       "      <th>2</th>\n",
       "      <td>raccoon-100.jpg</td>\n",
       "      <td>960</td>\n",
       "      <td>576</td>\n",
       "      <td>raccoon</td>\n",
       "      <td>548</td>\n",
       "      <td>10</td>\n",
       "      <td>954</td>\n",
       "      <td>520</td>\n",
       "    </tr>\n",
       "    <tr>\n",
       "      <th>3</th>\n",
       "      <td>raccoon-101.jpg</td>\n",
       "      <td>640</td>\n",
       "      <td>426</td>\n",
       "      <td>raccoon</td>\n",
       "      <td>86</td>\n",
       "      <td>53</td>\n",
       "      <td>400</td>\n",
       "      <td>356</td>\n",
       "    </tr>\n",
       "    <tr>\n",
       "      <th>4</th>\n",
       "      <td>raccoon-102.jpg</td>\n",
       "      <td>259</td>\n",
       "      <td>194</td>\n",
       "      <td>raccoon</td>\n",
       "      <td>1</td>\n",
       "      <td>1</td>\n",
       "      <td>118</td>\n",
       "      <td>152</td>\n",
       "    </tr>\n",
       "    <tr>\n",
       "      <th>...</th>\n",
       "      <td>...</td>\n",
       "      <td>...</td>\n",
       "      <td>...</td>\n",
       "      <td>...</td>\n",
       "      <td>...</td>\n",
       "      <td>...</td>\n",
       "      <td>...</td>\n",
       "      <td>...</td>\n",
       "    </tr>\n",
       "    <tr>\n",
       "      <th>212</th>\n",
       "      <td>raccoon-95.jpg</td>\n",
       "      <td>320</td>\n",
       "      <td>400</td>\n",
       "      <td>raccoon</td>\n",
       "      <td>50</td>\n",
       "      <td>45</td>\n",
       "      <td>272</td>\n",
       "      <td>289</td>\n",
       "    </tr>\n",
       "    <tr>\n",
       "      <th>213</th>\n",
       "      <td>raccoon-96.jpg</td>\n",
       "      <td>230</td>\n",
       "      <td>219</td>\n",
       "      <td>raccoon</td>\n",
       "      <td>28</td>\n",
       "      <td>25</td>\n",
       "      <td>203</td>\n",
       "      <td>175</td>\n",
       "    </tr>\n",
       "    <tr>\n",
       "      <th>214</th>\n",
       "      <td>raccoon-97.jpg</td>\n",
       "      <td>500</td>\n",
       "      <td>393</td>\n",
       "      <td>raccoon</td>\n",
       "      <td>1</td>\n",
       "      <td>32</td>\n",
       "      <td>343</td>\n",
       "      <td>307</td>\n",
       "    </tr>\n",
       "    <tr>\n",
       "      <th>215</th>\n",
       "      <td>raccoon-98.jpg</td>\n",
       "      <td>480</td>\n",
       "      <td>360</td>\n",
       "      <td>raccoon</td>\n",
       "      <td>108</td>\n",
       "      <td>31</td>\n",
       "      <td>351</td>\n",
       "      <td>308</td>\n",
       "    </tr>\n",
       "    <tr>\n",
       "      <th>216</th>\n",
       "      <td>raccoon-99.jpg</td>\n",
       "      <td>252</td>\n",
       "      <td>228</td>\n",
       "      <td>raccoon</td>\n",
       "      <td>15</td>\n",
       "      <td>40</td>\n",
       "      <td>132</td>\n",
       "      <td>226</td>\n",
       "    </tr>\n",
       "  </tbody>\n",
       "</table>\n",
       "<p>217 rows × 8 columns</p>\n",
       "</div>"
      ],
      "text/plain": [
       "            filename  width  height    class  xmin  ymin  xmax  ymax\n",
       "0      raccoon-1.jpg    650     417  raccoon    81    88   522   408\n",
       "1     raccoon-10.jpg    450     495  raccoon   130     2   446   488\n",
       "2    raccoon-100.jpg    960     576  raccoon   548    10   954   520\n",
       "3    raccoon-101.jpg    640     426  raccoon    86    53   400   356\n",
       "4    raccoon-102.jpg    259     194  raccoon     1     1   118   152\n",
       "..               ...    ...     ...      ...   ...   ...   ...   ...\n",
       "212   raccoon-95.jpg    320     400  raccoon    50    45   272   289\n",
       "213   raccoon-96.jpg    230     219  raccoon    28    25   203   175\n",
       "214   raccoon-97.jpg    500     393  raccoon     1    32   343   307\n",
       "215   raccoon-98.jpg    480     360  raccoon   108    31   351   308\n",
       "216   raccoon-99.jpg    252     228  raccoon    15    40   132   226\n",
       "\n",
       "[217 rows x 8 columns]"
      ]
     },
     "execution_count": 11,
     "metadata": {},
     "output_type": "execute_result"
    }
   ],
   "source": [
    "# Grouping\n",
    "grouped = racoons.groupby('filename')\n",
    "grouped.head()"
   ]
  },
  {
   "cell_type": "code",
   "execution_count": 12,
   "metadata": {},
   "outputs": [
    {
     "data": {
      "text/plain": [
       "1    184\n",
       "2     15\n",
       "3      1\n",
       "dtype: int64"
      ]
     },
     "execution_count": 12,
     "metadata": {},
     "output_type": "execute_result"
    }
   ],
   "source": [
    "grouped.apply(lambda x: len(x)).value_counts()"
   ]
  },
  {
   "cell_type": "code",
   "execution_count": 14,
   "metadata": {},
   "outputs": [
    {
     "data": {
      "text/plain": [
       "filename\n",
       "raccoon-1.jpg      1\n",
       "raccoon-10.jpg     1\n",
       "raccoon-100.jpg    1\n",
       "raccoon-101.jpg    1\n",
       "raccoon-102.jpg    1\n",
       "raccoon-103.jpg    1\n",
       "raccoon-104.jpg    1\n",
       "raccoon-105.jpg    1\n",
       "raccoon-106.jpg    1\n",
       "raccoon-107.jpg    1\n",
       "dtype: int64"
      ]
     },
     "execution_count": 14,
     "metadata": {},
     "output_type": "execute_result"
    }
   ],
   "source": [
    "grouped.apply(lambda x: len(x)).head(10)"
   ]
  },
  {
   "cell_type": "code",
   "execution_count": 15,
   "metadata": {},
   "outputs": [],
   "source": [
    "gb = racoons.groupby('filename')\n",
    "grouped_list = [gb.get_group(x) for x in gb.groups]"
   ]
  },
  {
   "cell_type": "code",
   "execution_count": 17,
   "metadata": {},
   "outputs": [
    {
     "data": {
      "text/plain": [
       "[        filename  width  height    class  xmin  ymin  xmax  ymax\n",
       " 0  raccoon-1.jpg    650     417  raccoon    81    88   522   408,\n",
       "          filename  width  height    class  xmin  ymin  xmax  ymax\n",
       " 1  raccoon-10.jpg    450     495  raccoon   130     2   446   488,\n",
       "           filename  width  height    class  xmin  ymin  xmax  ymax\n",
       " 2  raccoon-100.jpg    960     576  raccoon   548    10   954   520,\n",
       "           filename  width  height    class  xmin  ymin  xmax  ymax\n",
       " 3  raccoon-101.jpg    640     426  raccoon    86    53   400   356,\n",
       "           filename  width  height    class  xmin  ymin  xmax  ymax\n",
       " 4  raccoon-102.jpg    259     194  raccoon     1     1   118   152]"
      ]
     },
     "execution_count": 17,
     "metadata": {},
     "output_type": "execute_result"
    }
   ],
   "source": [
    "grouped_list[:5]"
   ]
  },
  {
   "cell_type": "code",
   "execution_count": 18,
   "metadata": {},
   "outputs": [
    {
     "data": {
      "text/plain": [
       "200"
      ]
     },
     "execution_count": 18,
     "metadata": {},
     "output_type": "execute_result"
    }
   ],
   "source": [
    "len(grouped_list)"
   ]
  },
  {
   "cell_type": "code",
   "execution_count": 19,
   "metadata": {},
   "outputs": [],
   "source": [
    "train_index = np.random.choice(len(grouped_list), size=160, replace=False)\n",
    "test_index = np.setdiff1d(list(range(200)), train_index)"
   ]
  },
  {
   "cell_type": "code",
   "execution_count": 21,
   "metadata": {},
   "outputs": [
    {
     "data": {
      "text/plain": [
       "(160, 40)"
      ]
     },
     "execution_count": 21,
     "metadata": {},
     "output_type": "execute_result"
    }
   ],
   "source": [
    "len(train_index), len(test_index)"
   ]
  },
  {
   "cell_type": "code",
   "execution_count": 29,
   "metadata": {},
   "outputs": [
    {
     "data": {
      "text/plain": [
       "array([ 58,  40,  34, 102, 184, 198,  95,   4,  29, 168, 171,  18,  11,\n",
       "        89, 110, 118, 159,  35, 136,  59,  51,  16,  44,  94,  31, 162,\n",
       "        38,  28, 193,  27,  47, 165, 194, 177, 176,  97, 174,  73,  69,\n",
       "       172, 108, 107, 189,  14,  56,  19, 114,  39, 185, 124,  98, 123,\n",
       "       119,  53,  33, 179, 181, 106, 199, 138, 116,  67,  78,  42,  17,\n",
       "         5, 127, 105,  48,  66,  54,  84, 183, 158, 166, 113,  12, 117,\n",
       "        93, 120, 154,  90,  81, 122, 191,  13,  82, 132, 187,  45,  99,\n",
       "        36, 161, 186, 153, 103, 195, 197, 148, 173,  75,  21,  91, 152,\n",
       "         2,  70,  85, 150,   6, 112,   0, 155,  77,  65,  55, 167,  88,\n",
       "       130,  46,  62,  74,  92, 147, 160, 143,  87, 180, 145, 164,  10,\n",
       "        32,  83, 182, 100, 125,  23, 126,   9, 170, 104, 151, 135, 111,\n",
       "       188,  64,  15,  41, 163, 109,  80,  52,  26,  76,  43,  24,   3,\n",
       "       169,  49, 149, 131])"
      ]
     },
     "execution_count": 29,
     "metadata": {},
     "output_type": "execute_result"
    }
   ],
   "source": [
    "train_index"
   ]
  },
  {
   "cell_type": "code",
   "execution_count": 30,
   "metadata": {},
   "outputs": [
    {
     "data": {
      "text/plain": [
       "array([  1,   7,   8,  20,  22,  25,  30,  37,  50,  57,  60,  61,  63,\n",
       "        68,  71,  72,  79,  86,  96, 101, 115, 121, 128, 129, 133, 134,\n",
       "       137, 139, 140, 141, 142, 144, 146, 156, 157, 175, 178, 190, 192,\n",
       "       196])"
      ]
     },
     "execution_count": 30,
     "metadata": {},
     "output_type": "execute_result"
    }
   ],
   "source": [
    "test_index"
   ]
  },
  {
   "cell_type": "code",
   "execution_count": 22,
   "metadata": {},
   "outputs": [],
   "source": [
    "train = pd.concat([grouped_list[i] for i in train_index])\n",
    "test = pd.concat([grouped_list[i] for i in test_index])"
   ]
  },
  {
   "cell_type": "code",
   "execution_count": 25,
   "metadata": {},
   "outputs": [
    {
     "data": {
      "text/html": [
       "<div>\n",
       "<style scoped>\n",
       "    .dataframe tbody tr th:only-of-type {\n",
       "        vertical-align: middle;\n",
       "    }\n",
       "\n",
       "    .dataframe tbody tr th {\n",
       "        vertical-align: top;\n",
       "    }\n",
       "\n",
       "    .dataframe thead th {\n",
       "        text-align: right;\n",
       "    }\n",
       "</style>\n",
       "<table border=\"1\" class=\"dataframe\">\n",
       "  <thead>\n",
       "    <tr style=\"text-align: right;\">\n",
       "      <th></th>\n",
       "      <th>filename</th>\n",
       "      <th>width</th>\n",
       "      <th>height</th>\n",
       "      <th>class</th>\n",
       "      <th>xmin</th>\n",
       "      <th>ymin</th>\n",
       "      <th>xmax</th>\n",
       "      <th>ymax</th>\n",
       "    </tr>\n",
       "  </thead>\n",
       "  <tbody>\n",
       "    <tr>\n",
       "      <th>65</th>\n",
       "      <td>raccoon-151.jpg</td>\n",
       "      <td>225</td>\n",
       "      <td>225</td>\n",
       "      <td>raccoon</td>\n",
       "      <td>42</td>\n",
       "      <td>94</td>\n",
       "      <td>108</td>\n",
       "      <td>224</td>\n",
       "    </tr>\n",
       "    <tr>\n",
       "      <th>45</th>\n",
       "      <td>raccoon-135.jpg</td>\n",
       "      <td>640</td>\n",
       "      <td>426</td>\n",
       "      <td>raccoon</td>\n",
       "      <td>99</td>\n",
       "      <td>8</td>\n",
       "      <td>605</td>\n",
       "      <td>404</td>\n",
       "    </tr>\n",
       "    <tr>\n",
       "      <th>38</th>\n",
       "      <td>raccoon-13.jpg</td>\n",
       "      <td>660</td>\n",
       "      <td>495</td>\n",
       "      <td>raccoon</td>\n",
       "      <td>55</td>\n",
       "      <td>28</td>\n",
       "      <td>393</td>\n",
       "      <td>313</td>\n",
       "    </tr>\n",
       "    <tr>\n",
       "      <th>112</th>\n",
       "      <td>raccoon-191.jpg</td>\n",
       "      <td>634</td>\n",
       "      <td>445</td>\n",
       "      <td>raccoon</td>\n",
       "      <td>100</td>\n",
       "      <td>89</td>\n",
       "      <td>478</td>\n",
       "      <td>331</td>\n",
       "    </tr>\n",
       "    <tr>\n",
       "      <th>201</th>\n",
       "      <td>raccoon-85.jpg</td>\n",
       "      <td>620</td>\n",
       "      <td>465</td>\n",
       "      <td>raccoon</td>\n",
       "      <td>236</td>\n",
       "      <td>87</td>\n",
       "      <td>598</td>\n",
       "      <td>429</td>\n",
       "    </tr>\n",
       "    <tr>\n",
       "      <th>215</th>\n",
       "      <td>raccoon-98.jpg</td>\n",
       "      <td>480</td>\n",
       "      <td>360</td>\n",
       "      <td>raccoon</td>\n",
       "      <td>108</td>\n",
       "      <td>31</td>\n",
       "      <td>351</td>\n",
       "      <td>308</td>\n",
       "    </tr>\n",
       "  </tbody>\n",
       "</table>\n",
       "</div>"
      ],
      "text/plain": [
       "            filename  width  height    class  xmin  ymin  xmax  ymax\n",
       "65   raccoon-151.jpg    225     225  raccoon    42    94   108   224\n",
       "45   raccoon-135.jpg    640     426  raccoon    99     8   605   404\n",
       "38    raccoon-13.jpg    660     495  raccoon    55    28   393   313\n",
       "112  raccoon-191.jpg    634     445  raccoon   100    89   478   331\n",
       "201   raccoon-85.jpg    620     465  raccoon   236    87   598   429\n",
       "215   raccoon-98.jpg    480     360  raccoon   108    31   351   308"
      ]
     },
     "execution_count": 25,
     "metadata": {},
     "output_type": "execute_result"
    }
   ],
   "source": [
    "train[:6]"
   ]
  },
  {
   "cell_type": "code",
   "execution_count": 26,
   "metadata": {},
   "outputs": [
    {
     "data": {
      "text/html": [
       "<div>\n",
       "<style scoped>\n",
       "    .dataframe tbody tr th:only-of-type {\n",
       "        vertical-align: middle;\n",
       "    }\n",
       "\n",
       "    .dataframe tbody tr th {\n",
       "        vertical-align: top;\n",
       "    }\n",
       "\n",
       "    .dataframe thead th {\n",
       "        text-align: right;\n",
       "    }\n",
       "</style>\n",
       "<table border=\"1\" class=\"dataframe\">\n",
       "  <thead>\n",
       "    <tr style=\"text-align: right;\">\n",
       "      <th></th>\n",
       "      <th>filename</th>\n",
       "      <th>width</th>\n",
       "      <th>height</th>\n",
       "      <th>class</th>\n",
       "      <th>xmin</th>\n",
       "      <th>ymin</th>\n",
       "      <th>xmax</th>\n",
       "      <th>ymax</th>\n",
       "    </tr>\n",
       "  </thead>\n",
       "  <tbody>\n",
       "    <tr>\n",
       "      <th>1</th>\n",
       "      <td>raccoon-10.jpg</td>\n",
       "      <td>450</td>\n",
       "      <td>495</td>\n",
       "      <td>raccoon</td>\n",
       "      <td>130</td>\n",
       "      <td>2</td>\n",
       "      <td>446</td>\n",
       "      <td>488</td>\n",
       "    </tr>\n",
       "    <tr>\n",
       "      <th>7</th>\n",
       "      <td>raccoon-105.jpg</td>\n",
       "      <td>720</td>\n",
       "      <td>960</td>\n",
       "      <td>raccoon</td>\n",
       "      <td>250</td>\n",
       "      <td>49</td>\n",
       "      <td>714</td>\n",
       "      <td>869</td>\n",
       "    </tr>\n",
       "    <tr>\n",
       "      <th>8</th>\n",
       "      <td>raccoon-106.jpg</td>\n",
       "      <td>269</td>\n",
       "      <td>187</td>\n",
       "      <td>raccoon</td>\n",
       "      <td>31</td>\n",
       "      <td>21</td>\n",
       "      <td>226</td>\n",
       "      <td>146</td>\n",
       "    </tr>\n",
       "    <tr>\n",
       "      <th>20</th>\n",
       "      <td>raccoon-117.jpg</td>\n",
       "      <td>640</td>\n",
       "      <td>448</td>\n",
       "      <td>raccoon</td>\n",
       "      <td>100</td>\n",
       "      <td>124</td>\n",
       "      <td>266</td>\n",
       "      <td>324</td>\n",
       "    </tr>\n",
       "    <tr>\n",
       "      <th>21</th>\n",
       "      <td>raccoon-117.jpg</td>\n",
       "      <td>640</td>\n",
       "      <td>448</td>\n",
       "      <td>raccoon</td>\n",
       "      <td>342</td>\n",
       "      <td>101</td>\n",
       "      <td>570</td>\n",
       "      <td>297</td>\n",
       "    </tr>\n",
       "    <tr>\n",
       "      <th>23</th>\n",
       "      <td>raccoon-119.jpg</td>\n",
       "      <td>400</td>\n",
       "      <td>533</td>\n",
       "      <td>raccoon</td>\n",
       "      <td>16</td>\n",
       "      <td>62</td>\n",
       "      <td>362</td>\n",
       "      <td>353</td>\n",
       "    </tr>\n",
       "  </tbody>\n",
       "</table>\n",
       "</div>"
      ],
      "text/plain": [
       "           filename  width  height    class  xmin  ymin  xmax  ymax\n",
       "1    raccoon-10.jpg    450     495  raccoon   130     2   446   488\n",
       "7   raccoon-105.jpg    720     960  raccoon   250    49   714   869\n",
       "8   raccoon-106.jpg    269     187  raccoon    31    21   226   146\n",
       "20  raccoon-117.jpg    640     448  raccoon   100   124   266   324\n",
       "21  raccoon-117.jpg    640     448  raccoon   342   101   570   297\n",
       "23  raccoon-119.jpg    400     533  raccoon    16    62   362   353"
      ]
     },
     "execution_count": 26,
     "metadata": {},
     "output_type": "execute_result"
    }
   ],
   "source": [
    "test[:6]"
   ]
  },
  {
   "cell_type": "code",
   "execution_count": 27,
   "metadata": {},
   "outputs": [
    {
     "data": {
      "text/plain": [
       "(173, 44)"
      ]
     },
     "execution_count": 27,
     "metadata": {},
     "output_type": "execute_result"
    }
   ],
   "source": [
    "len(train), len(test)"
   ]
  },
  {
   "cell_type": "code",
   "execution_count": 31,
   "metadata": {},
   "outputs": [],
   "source": [
    "train.to_csv('train_labels.csv', index=None)\n",
    "test.to_csv('test_labels.csv', index=None)"
   ]
  },
  {
   "cell_type": "code",
   "execution_count": 34,
   "metadata": {},
   "outputs": [
    {
     "name": "stderr",
     "output_type": "stream",
     "text": [
      "2021-06-09 23:58:27.127688: W tensorflow/stream_executor/platform/default/dso_loader.cc:60] Could not load dynamic library 'cudart64_110.dll'; dlerror: cudart64_110.dll not found\n",
      "2021-06-09 23:58:27.127718: I tensorflow/stream_executor/cuda/cudart_stub.cc:29] Ignore above cudart dlerror if you do not have a GPU set up on your machine.\n",
      "Traceback (most recent call last):\n",
      "  File \"generate_tfrecord.py\", line 100, in <module>\n",
      "    tf.app.run()\n",
      "  File \"C:\\Users\\Playdata\\Anaconda3\\envs\\tf2\\lib\\site-packages\\tensorflow\\python\\platform\\app.py\", line 40, in run\n",
      "    _run(main=main, argv=argv, flags_parser=_parse_flags_tolerate_undef)\n",
      "  File \"C:\\Users\\Playdata\\Anaconda3\\envs\\tf2\\lib\\site-packages\\absl\\app.py\", line 300, in run\n",
      "    _run_main(main, args)\n",
      "  File \"C:\\Users\\Playdata\\Anaconda3\\envs\\tf2\\lib\\site-packages\\absl\\app.py\", line 251, in _run_main\n",
      "    sys.exit(main(argv))\n",
      "  File \"generate_tfrecord.py\", line 91, in main\n",
      "    tf_example = create_tf_example(group, path)\n",
      "  File \"generate_tfrecord.py\", line 46, in create_tf_example\n",
      "    encoded_jpg = fid.read()\n",
      "  File \"C:\\Users\\Playdata\\Anaconda3\\envs\\tf2\\lib\\site-packages\\tensorflow\\python\\lib\\io\\file_io.py\", line 117, in read\n",
      "    self._preread_check()\n",
      "  File \"C:\\Users\\Playdata\\Anaconda3\\envs\\tf2\\lib\\site-packages\\tensorflow\\python\\lib\\io\\file_io.py\", line 80, in _preread_check\n",
      "    compat.path_to_str(self.__name), 1024 * 512)\n",
      "UnicodeDecodeError: 'utf-8' codec can't decode byte 0xc1 in position 59: invalid start byte\n"
     ]
    }
   ],
   "source": [
    "# csv to tfrecord\n",
    "!python generate_tfrecord.py  --csv_input=data/train_labels.csv  --output_path=train.record"
   ]
  },
  {
   "cell_type": "code",
   "execution_count": null,
   "metadata": {},
   "outputs": [],
   "source": []
  },
  {
   "cell_type": "code",
   "execution_count": null,
   "metadata": {},
   "outputs": [],
   "source": []
  },
  {
   "cell_type": "code",
   "execution_count": null,
   "metadata": {},
   "outputs": [],
   "source": []
  },
  {
   "cell_type": "code",
   "execution_count": null,
   "metadata": {},
   "outputs": [],
   "source": []
  }
 ],
 "metadata": {
  "kernelspec": {
   "display_name": "Python 3",
   "language": "python",
   "name": "python3"
  },
  "language_info": {
   "codemirror_mode": {
    "name": "ipython",
    "version": 3
   },
   "file_extension": ".py",
   "mimetype": "text/x-python",
   "name": "python",
   "nbconvert_exporter": "python",
   "pygments_lexer": "ipython3",
   "version": "3.7.10"
  }
 },
 "nbformat": 4,
 "nbformat_minor": 4
}
